{
 "cells": [
  {
   "cell_type": "code",
   "execution_count": 53,
   "id": "062625b6-ff84-4bae-b0a4-3619fdc4c0e5",
   "metadata": {},
   "outputs": [],
   "source": [
    "import numpy as np\n",
    "import pandas as pd\n",
    "import math\n",
    "import os, sys\n",
    "import matplotlib.pyplot as plt\n",
    "import skimage.io\n",
    "from random import shuffle\n",
    "from skimage.transform import resize\n",
    "from imgaug import augmenters as iaa\n",
    "from tqdm import tqdm\n",
    "import PIL\n",
    "from PIL import Image, ImageOps\n",
    "import cv2\n",
    "from sklearn.utils import class_weight, shuffle\n",
    "from tensorflow import keras\n",
    "from keras.losses import binary_crossentropy\n",
    "import keras.backend as K\n",
    "import tensorflow as tf\n",
    "import tensorflow_probability as tfp\n",
    "from sklearn.metrics import f1_score, fbeta_score\n",
    "from keras.utils import Sequence\n",
    "from keras.utils import to_categorical\n",
    "from tensorflow.keras import regularizers\n",
    "from sklearn.model_selection import train_test_split\n",
    "from keras.preprocessing.image import ImageDataGenerator\n",
    "from keras.models import Sequential\n",
    "from keras.regularizers import l1, l2\n",
    "from keras.callbacks import Callback, EarlyStopping, ReduceLROnPlateau\n",
    "import seaborn as sns\n",
    "import keras\n",
    "from tensorflow.keras.layers import Dense,Dropout,Activation,Flatten, GlobalAveragePooling2D, Attention, Convolution2D, MaxPooling2D, Conv2D\n",
    "from tensorflow.keras.optimizers import Adam\n",
    "from keras.metrics import SparseCategoricalAccuracy\n",
    "from keras.callbacks import EarlyStopping\n",
    "from tensorflow.keras.losses import sparse_categorical_crossentropy"
   ]
  },
  {
   "cell_type": "code",
   "execution_count": 2,
   "id": "e0cd2687-3f82-4f7d-bca8-59594a667303",
   "metadata": {},
   "outputs": [],
   "source": [
    "np.random.seed(2023)"
   ]
  },
  {
   "cell_type": "code",
   "execution_count": 3,
   "id": "6fd688a5-a47d-42fb-a9e5-995eecd9db5d",
   "metadata": {},
   "outputs": [],
   "source": [
    "DIR = \"/Users/andrewcosta/Desktop/Milan/AMS/project/aptos2019-blindness-detection/\"\n",
    "TRAIN_DIR = DIR + \"train.csv\"\n",
    "TEST_DIR = DIR + \"test.csv\"\n",
    "TRAIN_IMG_PATH = DIR + \"train_images/\"\n",
    "TEST_IMG_PATH = DIR + \"test_images/\""
   ]
  },
  {
   "cell_type": "code",
   "execution_count": 4,
   "id": "38245680-ffef-46c1-a0a2-06d20e8a9140",
   "metadata": {},
   "outputs": [
    {
     "name": "stdout",
     "output_type": "stream",
     "text": [
      "Image IDs and Labels (TRAIN)\n",
      "Training images: 3662\n"
     ]
    },
    {
     "data": {
      "text/html": [
       "<div>\n",
       "<style scoped>\n",
       "    .dataframe tbody tr th:only-of-type {\n",
       "        vertical-align: middle;\n",
       "    }\n",
       "\n",
       "    .dataframe tbody tr th {\n",
       "        vertical-align: top;\n",
       "    }\n",
       "\n",
       "    .dataframe thead th {\n",
       "        text-align: right;\n",
       "    }\n",
       "</style>\n",
       "<table border=\"1\" class=\"dataframe\">\n",
       "  <thead>\n",
       "    <tr style=\"text-align: right;\">\n",
       "      <th></th>\n",
       "      <th>id_code</th>\n",
       "      <th>diagnosis</th>\n",
       "    </tr>\n",
       "  </thead>\n",
       "  <tbody>\n",
       "    <tr>\n",
       "      <th>0</th>\n",
       "      <td>000c1434d8d7.png</td>\n",
       "      <td>2</td>\n",
       "    </tr>\n",
       "    <tr>\n",
       "      <th>1</th>\n",
       "      <td>001639a390f0.png</td>\n",
       "      <td>4</td>\n",
       "    </tr>\n",
       "    <tr>\n",
       "      <th>2</th>\n",
       "      <td>0024cdab0c1e.png</td>\n",
       "      <td>1</td>\n",
       "    </tr>\n",
       "    <tr>\n",
       "      <th>3</th>\n",
       "      <td>002c21358ce6.png</td>\n",
       "      <td>0</td>\n",
       "    </tr>\n",
       "    <tr>\n",
       "      <th>4</th>\n",
       "      <td>005b95c28852.png</td>\n",
       "      <td>0</td>\n",
       "    </tr>\n",
       "  </tbody>\n",
       "</table>\n",
       "</div>"
      ],
      "text/plain": [
       "            id_code  diagnosis\n",
       "0  000c1434d8d7.png          2\n",
       "1  001639a390f0.png          4\n",
       "2  0024cdab0c1e.png          1\n",
       "3  002c21358ce6.png          0\n",
       "4  005b95c28852.png          0"
      ]
     },
     "metadata": {},
     "output_type": "display_data"
    },
    {
     "name": "stdout",
     "output_type": "stream",
     "text": [
      "Image IDs (TEST)\n",
      "Testing Images: 1928\n"
     ]
    },
    {
     "data": {
      "text/html": [
       "<div>\n",
       "<style scoped>\n",
       "    .dataframe tbody tr th:only-of-type {\n",
       "        vertical-align: middle;\n",
       "    }\n",
       "\n",
       "    .dataframe tbody tr th {\n",
       "        vertical-align: top;\n",
       "    }\n",
       "\n",
       "    .dataframe thead th {\n",
       "        text-align: right;\n",
       "    }\n",
       "</style>\n",
       "<table border=\"1\" class=\"dataframe\">\n",
       "  <thead>\n",
       "    <tr style=\"text-align: right;\">\n",
       "      <th></th>\n",
       "      <th>id_code</th>\n",
       "    </tr>\n",
       "  </thead>\n",
       "  <tbody>\n",
       "    <tr>\n",
       "      <th>0</th>\n",
       "      <td>0005cfc8afb6.png</td>\n",
       "    </tr>\n",
       "    <tr>\n",
       "      <th>1</th>\n",
       "      <td>003f0afdcd15.png</td>\n",
       "    </tr>\n",
       "    <tr>\n",
       "      <th>2</th>\n",
       "      <td>006efc72b638.png</td>\n",
       "    </tr>\n",
       "    <tr>\n",
       "      <th>3</th>\n",
       "      <td>00836aaacf06.png</td>\n",
       "    </tr>\n",
       "    <tr>\n",
       "      <th>4</th>\n",
       "      <td>009245722fa4.png</td>\n",
       "    </tr>\n",
       "  </tbody>\n",
       "</table>\n",
       "</div>"
      ],
      "text/plain": [
       "            id_code\n",
       "0  0005cfc8afb6.png\n",
       "1  003f0afdcd15.png\n",
       "2  006efc72b638.png\n",
       "3  00836aaacf06.png\n",
       "4  009245722fa4.png"
      ]
     },
     "metadata": {},
     "output_type": "display_data"
    }
   ],
   "source": [
    "print(\"Image IDs and Labels (TRAIN)\")\n",
    "train_df = pd.read_csv(TRAIN_DIR)\n",
    "\n",
    "# Add extension to id_code\n",
    "train_df['id_code'] = train_df['id_code'] + \".png\"\n",
    "print(f\"Training images: {train_df.shape[0]}\")\n",
    "display(train_df.head())\n",
    "print(\"Image IDs (TEST)\")\n",
    "test_df = pd.read_csv(TEST_DIR)\n",
    "\n",
    "# Add extension to id_code\n",
    "test_df['id_code'] = test_df['id_code'] + \".png\"\n",
    "print(f\"Testing Images: {test_df.shape[0]}\")\n",
    "display(test_df.head())"
   ]
  },
  {
   "cell_type": "code",
   "execution_count": 5,
   "id": "58d4aedc-e3d4-4e24-91f2-3a7a48baf656",
   "metadata": {},
   "outputs": [
    {
     "data": {
      "text/plain": [
       "(3662, 2)"
      ]
     },
     "execution_count": 5,
     "metadata": {},
     "output_type": "execute_result"
    }
   ],
   "source": [
    "train_df.shape"
   ]
  },
  {
   "cell_type": "code",
   "execution_count": 6,
   "id": "bb53018d-4a6b-412a-9346-8f7b833f630e",
   "metadata": {},
   "outputs": [
    {
     "data": {
      "text/plain": [
       "(1928, 1)"
      ]
     },
     "execution_count": 6,
     "metadata": {},
     "output_type": "execute_result"
    }
   ],
   "source": [
    "test_df.shape"
   ]
  },
  {
   "cell_type": "code",
   "execution_count": 7,
   "id": "e000d0d1-9e72-4ea8-a028-0c7dc63fadf7",
   "metadata": {},
   "outputs": [],
   "source": [
    "def pad_width(image, new_shape, is_rgb=True):\n",
    "    pad_dff = new_shape - image.shape[0], new_shape - image.shape[1]\n",
    "    t, b = math.floor(pad_diff[0]/2), math.ceil(pad_diff[0]/2)\n",
    "    l, r = math.floor(pad_diff[1]/2), math.ceil(pad_diff[1]/2)\n",
    "    \n",
    "    if is_rgb:\n",
    "        pad_width = ((t,b), (l,r), (0,0))\n",
    "    else:\n",
    "        pad_width = ((t,b), (l,r))\n",
    "    \n",
    "    return pad_width\n",
    "\n",
    "def preprocess(path, desired_size=224):\n",
    "    image = Image.open(path)\n",
    "    image = image.resize((desired_size,)*2, resample=Image.LANCZOS)\n",
    "    \n",
    "    return image"
   ]
  },
  {
   "cell_type": "code",
   "execution_count": 8,
   "id": "f4045e87-bc36-4136-82dc-d4866e113bbb",
   "metadata": {},
   "outputs": [
    {
     "data": {
      "text/plain": [
       "3662"
      ]
     },
     "execution_count": 8,
     "metadata": {},
     "output_type": "execute_result"
    }
   ],
   "source": [
    "train_df.shape[0]"
   ]
  },
  {
   "cell_type": "code",
   "execution_count": 9,
   "id": "6cd808fe-c10f-406e-86e2-9b4c09ab6ff3",
   "metadata": {},
   "outputs": [
    {
     "name": "stderr",
     "output_type": "stream",
     "text": [
      "100%|███████████████████████████████████████| 3662/3662 [15:34<00:00,  3.92it/s]\n"
     ]
    }
   ],
   "source": [
    "N = train_df.shape[0]\n",
    "X_train = np.empty((N, 224, 224, 3), dtype=np.uint8)\n",
    "\n",
    "for i, image_id in enumerate(tqdm(train_df['id_code'])):\n",
    "    X_train[i, :, :, :] = preprocess(\n",
    "        f\"/Users/andrewcosta/Desktop/Milan/AMS/project/aptos2019-blindness-detection/train_images/{image_id}\"\n",
    "    )"
   ]
  },
  {
   "cell_type": "code",
   "execution_count": 10,
   "id": "74473840-3eb5-475c-89f7-3f13b0cf61ca",
   "metadata": {},
   "outputs": [
    {
     "name": "stderr",
     "output_type": "stream",
     "text": [
      "100%|███████████████████████████████████████| 1928/1928 [02:57<00:00, 10.86it/s]\n"
     ]
    }
   ],
   "source": [
    "N = test_df.shape[0]\n",
    "X_test = np.empty((N, 224, 224, 3), dtype=np.uint8)\n",
    "\n",
    "for i, image_id in enumerate(tqdm(test_df['id_code'])):\n",
    "    X_test[i, :, :, :] = preprocess(\n",
    "        f\"/Users/andrewcosta/Desktop/Milan/AMS/project/aptos2019-blindness-detection/test_images/{image_id}\"\n",
    "    )"
   ]
  },
  {
   "cell_type": "code",
   "execution_count": 11,
   "id": "429918e9-f0d8-403f-962b-1b47eced0543",
   "metadata": {},
   "outputs": [],
   "source": [
    "y_train = pd.get_dummies(train_df['diagnosis']).values"
   ]
  },
  {
   "cell_type": "code",
   "execution_count": 12,
   "id": "bed183a9-3a1b-4c38-a613-9334857e815f",
   "metadata": {},
   "outputs": [
    {
     "name": "stdout",
     "output_type": "stream",
     "text": [
      "Original y_train: [1805  370  999  193  295]\n",
      "Multilabel version: [3662 1857 1487  488  295]\n"
     ]
    }
   ],
   "source": [
    "y_train_multi = np.empty(y_train.shape, dtype=y_train.dtype)\n",
    "y_train_multi[:, 4] = y_train[:, 4]\n",
    "\n",
    "for i in range(3, -1, -1):\n",
    "    y_train_multi[:, i] = np.logical_or(y_train[:, i], y_train_multi[:, i+1])\n",
    "\n",
    "print(\"Original y_train:\", y_train.sum(axis=0))\n",
    "print(\"Multilabel version:\", y_train_multi.sum(axis=0))"
   ]
  },
  {
   "cell_type": "code",
   "execution_count": 13,
   "id": "7e14584a-b788-412a-a0da-5d99fd95525c",
   "metadata": {},
   "outputs": [],
   "source": [
    "X_train, X_val, y_train, y_val = train_test_split(\n",
    "    X_train, y_train_multi, \n",
    "    test_size=0.15, \n",
    "    random_state=2019\n",
    ")"
   ]
  },
  {
   "cell_type": "code",
   "execution_count": 14,
   "id": "8b09424d-b845-433f-b224-e052c7959922",
   "metadata": {},
   "outputs": [],
   "source": [
    "BATCH_SIZE = 32\n",
    "\n",
    "\n",
    "def create_datagen():\n",
    "    return ImageDataGenerator(\n",
    "        zoom_range=0.15,  # set range for random zoom\n",
    "        # set mode for filling points outside the input boundaries\n",
    "        fill_mode='constant',\n",
    "        cval=0.,  # value used for fill_mode = \"constant\"\n",
    "        horizontal_flip=True,  # randomly flip images\n",
    "        vertical_flip=True,  # randomly flip images\n",
    "    )\n",
    "\n",
    "# Using original generator\n",
    "data_generator = create_datagen().flow(X_train, y_train, batch_size=BATCH_SIZE, seed=2019)"
   ]
  },
  {
   "cell_type": "code",
   "execution_count": 67,
   "id": "0f3a200b-0fa5-4bdd-93fa-3c0b6ca47345",
   "metadata": {},
   "outputs": [],
   "source": [
    "callback = EarlyStopping(monitor='loss', patience=10)\n",
    "\n",
    "def base_model(loss, optimizer, metrics):\n",
    "    model = Sequential()\n",
    "    model.add(Conv2D(kernel_size=(5, 5), filters=8, activation='relu', kernel_regularizer=regularizers.l2(l=0.01), padding='same'))\n",
    "    model.add(MaxPooling2D(pool_size=(6, 6)))\n",
    "    model.add(Flatten())\n",
    "    model.add(Dense(units=5, activation='sigmoid'))\n",
    "\n",
    "\n",
    "    model.compile(optimizer=optimizer,\n",
    "                  loss = loss,\n",
    "                  metrics = metrics\n",
    "    )\n",
    "    print(model.summary)\n",
    "    return model"
   ]
  },
  {
   "cell_type": "code",
   "execution_count": 64,
   "id": "945584b6-0cb4-4204-a8c9-feaa43db79ae",
   "metadata": {},
   "outputs": [
    {
     "name": "stdout",
     "output_type": "stream",
     "text": [
      "<bound method Model.summary of <keras.engine.sequential.Sequential object at 0x169fab970>>\n"
     ]
    }
   ],
   "source": [
    "base_model = base_model(loss = 'binary_crossentropy' , \n",
    "                        optimizer = Adam(learning_rate=0.00005), \n",
    "                        metrics =['accuracy'] \n",
    "                       )"
   ]
  },
  {
   "cell_type": "code",
   "execution_count": 65,
   "id": "b0702008-df6e-4f29-a5ad-16c5389cc86b",
   "metadata": {},
   "outputs": [
    {
     "name": "stderr",
     "output_type": "stream",
     "text": [
      "/var/folders/0r/s7nt6zcj6m7fmc369tc6jzch0000gn/T/ipykernel_14526/3862225693.py:1: UserWarning: `Model.fit_generator` is deprecated and will be removed in a future version. Please use `Model.fit`, which supports generators.\n",
      "  base_history = base_model.fit_generator(data_generator,\n"
     ]
    },
    {
     "name": "stdout",
     "output_type": "stream",
     "text": [
      "Epoch 1/15\n",
      "97/97 [==============================] - 102s 1s/step - loss: 12.8087 - accuracy: 0.9168 - val_loss: 3.1721 - val_accuracy: 1.0000\n",
      "Epoch 2/15\n",
      "97/97 [==============================] - 96s 983ms/step - loss: 7.3408 - accuracy: 0.9708 - val_loss: 2.1876 - val_accuracy: 1.0000\n",
      "Epoch 3/15\n",
      "97/97 [==============================] - 96s 985ms/step - loss: 4.3497 - accuracy: 0.9457 - val_loss: 1.3809 - val_accuracy: 0.9982\n",
      "Epoch 4/15\n",
      "97/97 [==============================] - 99s 1s/step - loss: 2.5223 - accuracy: 0.9139 - val_loss: 1.0010 - val_accuracy: 0.9527\n",
      "Epoch 5/15\n",
      "97/97 [==============================] - 91s 929ms/step - loss: 1.7614 - accuracy: 0.8798 - val_loss: 0.8226 - val_accuracy: 0.9473\n",
      "Epoch 6/15\n",
      "97/97 [==============================] - 99s 1s/step - loss: 1.4892 - accuracy: 0.9023 - val_loss: 0.7084 - val_accuracy: 0.9836\n",
      "Epoch 7/15\n",
      "97/97 [==============================] - 101s 1s/step - loss: 1.3093 - accuracy: 0.9187 - val_loss: 0.6878 - val_accuracy: 0.9927\n",
      "Epoch 8/15\n",
      "97/97 [==============================] - 106s 1s/step - loss: 1.1629 - accuracy: 0.9338 - val_loss: 0.6275 - val_accuracy: 0.9945\n",
      "Epoch 9/15\n",
      "97/97 [==============================] - 106s 1s/step - loss: 1.1121 - accuracy: 0.9344 - val_loss: 0.5359 - val_accuracy: 0.9927\n",
      "Epoch 10/15\n",
      "97/97 [==============================] - 95s 972ms/step - loss: 1.0028 - accuracy: 0.9476 - val_loss: 0.5208 - val_accuracy: 0.9964\n",
      "Epoch 11/15\n",
      "97/97 [==============================] - 92s 948ms/step - loss: 0.9659 - accuracy: 0.9611 - val_loss: 0.5091 - val_accuracy: 0.9964\n",
      "Epoch 12/15\n",
      "97/97 [==============================] - 103s 1s/step - loss: 0.8638 - accuracy: 0.9563 - val_loss: 0.4824 - val_accuracy: 0.9964\n",
      "Epoch 13/15\n",
      "97/97 [==============================] - 100s 1s/step - loss: 0.8111 - accuracy: 0.9560 - val_loss: 0.4651 - val_accuracy: 0.9982\n",
      "Epoch 14/15\n",
      "97/97 [==============================] - 99s 1s/step - loss: 0.7743 - accuracy: 0.9640 - val_loss: 0.4257 - val_accuracy: 0.9982\n",
      "Epoch 15/15\n",
      "97/97 [==============================] - 99s 1s/step - loss: 0.6802 - accuracy: 0.9643 - val_loss: 0.4176 - val_accuracy: 1.0000\n"
     ]
    }
   ],
   "source": [
    "base_history = base_model.fit_generator(data_generator,\n",
    "                                        steps_per_epoch=X_train.shape[0] / BATCH_SIZE,\n",
    "                                        epochs=15,\n",
    "                                        validation_data=(X_val, y_val),\n",
    "                                        callbacks=[callback]\n",
    "                                       )"
   ]
  },
  {
   "cell_type": "code",
   "execution_count": 66,
   "id": "2d0ffb91-da67-48cd-8552-9c23fdfc06f7",
   "metadata": {},
   "outputs": [
    {
     "data": {
      "text/plain": [
       "<AxesSubplot: >"
      ]
     },
     "execution_count": 66,
     "metadata": {},
     "output_type": "execute_result"
    },
    {
     "data": {
      "image/png": "[encoded data removed]",
      "text/plain": [
       "<Figure size 640x480 with 1 Axes>"
      ]
     },
     "metadata": {},
     "output_type": "display_data"
    },
    {
     "data": {
      "image/png": "[encoded data removed]",
      "text/plain": [
       "<Figure size 640x480 with 1 Axes>"
      ]
     },
     "metadata": {},
     "output_type": "display_data"
    }
   ],
   "source": [
    "history_df = pd.DataFrame(base_history.history)\n",
    "history_df[['loss', 'val_loss']].plot()\n",
    "history_df[['accuracy', 'val_accuracy']].plot()"
   ]
  },
  {
   "cell_type": "code",
   "execution_count": 68,
   "id": "c41aa1fb-a712-4bb2-90b1-9c8304f76fd2",
   "metadata": {},
   "outputs": [],
   "source": [
    "kl_divergence_function = lambda q, p, _: tfp.distributions.kl_divergence(q, p) / tf.cast(244., dtype=tf.float32)\n",
    "\n",
    "bcnn_model_one = tf.keras.Sequential([\n",
    "    \n",
    "    tfp.layers.Convolution2DFlipout(8, kernel_size=(5,5), strides=(1,1), \n",
    "                                    padding=\"same\", activation=tf.nn.relu, name=\"conv_tfp_1a\", \n",
    "                                    kernel_divergence_fn=kl_divergence_function),\n",
    "    tf.keras.layers.MaxPool2D(pool_size=(6,6), padding=\"same\"),\n",
    "    tf.keras.layers.Flatten(),\n",
    "    tfp.layers.DenseFlipout(5, kernel_divergence_fn=kl_divergence_function),\n",
    "])"
   ]
  },
  {
   "cell_type": "code",
   "execution_count": 73,
   "id": "8097d8f9-ebb3-4435-88d5-ef5a1f47a876",
   "metadata": {},
   "outputs": [],
   "source": [
    "bcnn_model_one.compile(loss='binary_crossentropy',\n",
    "                        optimizer= Adam(learning_rate=0.00005),\n",
    "              metrics=['accuracy'])"
   ]
  },
  {
   "cell_type": "code",
   "execution_count": null,
   "id": "92739262-9774-4169-9697-75d2b0d0cf46",
   "metadata": {},
   "outputs": [
    {
     "name": "stderr",
     "output_type": "stream",
     "text": [
      "/var/folders/0r/s7nt6zcj6m7fmc369tc6jzch0000gn/T/ipykernel_14526/954553059.py:1: UserWarning: `Model.fit_generator` is deprecated and will be removed in a future version. Please use `Model.fit`, which supports generators.\n",
      "  history = bcnn_model_one.fit_generator(data_generator,\n",
      "/usr/local/lib/python3.10/site-packages/tensorflow_probability/python/layers/util.py:95: UserWarning: `layer.add_variable` is deprecated and will be removed in a future version. Please use the `layer.add_weight()` method instead.\n",
      "  loc = add_variable_fn(\n",
      "/usr/local/lib/python3.10/site-packages/tensorflow_probability/python/layers/util.py:105: UserWarning: `layer.add_variable` is deprecated and will be removed in a future version. Please use the `layer.add_weight()` method instead.\n",
      "  untransformed_scale = add_variable_fn(\n"
     ]
    },
    {
     "name": "stdout",
     "output_type": "stream",
     "text": [
      "Epoch 1/15\n",
      "97/97 [==============================] - 174s 2s/step - loss: 1312.5083 - accuracy: 0.5572 - val_loss: 1310.6215 - val_accuracy: 0.6982\n",
      "Epoch 2/15\n",
      "97/97 [==============================] - 164s 2s/step - loss: 1309.7306 - accuracy: 0.6922 - val_loss: 1308.0535 - val_accuracy: 0.7836\n",
      "Epoch 3/15\n",
      "97/97 [==============================] - 155s 2s/step - loss: 1307.1992 - accuracy: 0.7844 - val_loss: 1305.5063 - val_accuracy: 0.9073\n",
      "Epoch 4/15\n",
      "97/97 [==============================] - 164s 2s/step - loss: 1304.6826 - accuracy: 0.8862 - val_loss: 1303.0581 - val_accuracy: 0.9236\n",
      "Epoch 5/15\n",
      "97/97 [==============================] - 178s 2s/step - loss: 1302.5985 - accuracy: 0.9229 - val_loss: 1301.1477 - val_accuracy: 0.9636\n",
      "Epoch 6/15\n",
      "97/97 [==============================] - 178s 2s/step - loss: 1300.5145 - accuracy: 0.9238 - val_loss: 1299.0748 - val_accuracy: 0.9636\n",
      "Epoch 7/15\n",
      "97/97 [==============================] - 164s 2s/step - loss: 1298.3497 - accuracy: 0.9383 - val_loss: 1296.9268 - val_accuracy: 0.9655\n",
      "Epoch 8/15\n",
      "97/97 [==============================] - 157s 2s/step - loss: 1296.3026 - accuracy: 0.9377 - val_loss: 1295.0312 - val_accuracy: 0.9600\n",
      "Epoch 9/15\n",
      "97/97 [==============================] - 160s 2s/step - loss: 1294.4540 - accuracy: 0.9210 - val_loss: 1293.0795 - val_accuracy: 0.9509\n",
      "Epoch 10/15\n",
      "97/97 [==============================] - 180s 2s/step - loss: 1292.6224 - accuracy: 0.9271 - val_loss: 1291.3834 - val_accuracy: 0.9673\n",
      "Epoch 11/15\n",
      "97/97 [==============================] - 178s 2s/step - loss: 1290.6892 - accuracy: 0.9643 - val_loss: 1289.3660 - val_accuracy: 0.9945\n",
      "Epoch 12/15\n",
      "67/97 [===================>..........] - ETA: 48s - loss: 1289.1180 - accuracy: 0.9736"
     ]
    }
   ],
   "source": [
    "history = bcnn_model_one.fit_generator(data_generator,\n",
    "                                        steps_per_epoch=X_train.shape[0] / BATCH_SIZE,\n",
    "                                        epochs=15,\n",
    "                                        validation_data=(X_val, y_val),\n",
    "                                        callbacks=[callback])"
   ]
  },
  {
   "cell_type": "code",
   "execution_count": null,
   "id": "0cd408cc-66f6-4221-8cd3-a85f767f0a20",
   "metadata": {},
   "outputs": [],
   "source": [
    "history_df = pd.DataFrame(history.history)\n",
    "history_df[['loss', 'val_loss]].plot()\n",
    "history_df[['accuracy', 'val_accuracy]].plot()"
   ]
  }
 ],
 "metadata": {
  "kernelspec": {
   "display_name": "Python 3 (ipykernel)",
   "language": "python",
   "name": "python3"
  },
  "language_info": {
   "codemirror_mode": {
    "name": "ipython",
    "version": 3
   },
   "file_extension": ".py",
   "mimetype": "text/x-python",
   "name": "python",
   "nbconvert_exporter": "python",
   "pygments_lexer": "ipython3",
   "version": "3.10.9"
  }
 },
 "nbformat": 4,
 "nbformat_minor": 5
}
